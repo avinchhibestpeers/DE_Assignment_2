{
 "cells": [
  {
   "cell_type": "code",
   "execution_count": 4,
   "id": "237fede1",
   "metadata": {},
   "outputs": [],
   "source": [
    "import csv\n",
    "from pprint import pprint"
   ]
  },
  {
   "cell_type": "code",
   "execution_count": 11,
   "id": "5578ab5e",
   "metadata": {},
   "outputs": [],
   "source": [
    "\n",
    "with open(\"data/accounts.csv\") as file:\n",
    "    reader = csv.DictReader(file, skipinitialspace=True)\n",
    "    fieldnames = reader.fieldnames\n",
    "    data = []\n",
    "    for row in reader:\n",
    "        data.append(row)"
   ]
  },
  {
   "cell_type": "code",
   "execution_count": 12,
   "id": "9dd2210c",
   "metadata": {},
   "outputs": [
    {
     "name": "stdout",
     "output_type": "stream",
     "text": [
      "['customer_id',\n",
      " 'first_name',\n",
      " 'last_name',\n",
      " 'address_1',\n",
      " 'address_2',\n",
      " 'city',\n",
      " 'state',\n",
      " 'zip_code',\n",
      " 'join_date']\n"
     ]
    }
   ],
   "source": [
    "pprint(fieldnames)"
   ]
  },
  {
   "cell_type": "code",
   "execution_count": 13,
   "id": "b2cdff86",
   "metadata": {},
   "outputs": [
    {
     "name": "stdout",
     "output_type": "stream",
     "text": [
      "[{'address_1': '1532 East Main St.',\n",
      "  'address_2': 'PO BOX 5',\n",
      "  'city': 'Middleton',\n",
      "  'customer_id': '4321',\n",
      "  'first_name': 'john',\n",
      "  'join_date': '2022/01/16',\n",
      "  'last_name': 'doe',\n",
      "  'state': 'Ohio',\n",
      "  'zip_code': '50045'},\n",
      " {'address_1': '543 Oak Rd.',\n",
      "  'address_2': '',\n",
      "  'city': 'BigTown',\n",
      "  'customer_id': '5677',\n",
      "  'first_name': 'jane',\n",
      "  'join_date': '2021/05/07',\n",
      "  'last_name': 'doe',\n",
      "  'state': 'Iowa',\n",
      "  'zip_code': '84432'}]\n"
     ]
    }
   ],
   "source": [
    "pprint(data)"
   ]
  },
  {
   "cell_type": "code",
   "execution_count": 18,
   "id": "8195f7c2",
   "metadata": {},
   "outputs": [
    {
     "data": {
      "text/plain": [
       "['4321',\n",
       " 'john',\n",
       " 'doe',\n",
       " '1532 East Main St.',\n",
       " 'PO BOX 5',\n",
       " 'Middleton',\n",
       " 'Ohio',\n",
       " '50045',\n",
       " '2022/01/16']"
      ]
     },
     "execution_count": 18,
     "metadata": {},
     "output_type": "execute_result"
    }
   ],
   "source": [
    "curr_row = [data[0][field] for field in fieldnames]\n",
    "curr_row"
   ]
  },
  {
   "cell_type": "code",
   "execution_count": 37,
   "id": "aa116207",
   "metadata": {},
   "outputs": [],
   "source": [
    "import re\n",
    "from datetime import date, datetime\n",
    "\n",
    "def clean_row(raw_row: dict[str], field_order: list[str]):\n",
    "    clean_row = []\n",
    "    for field in field_order:\n",
    "        datapoint =  raw_row[field]\n",
    "        datapoint = datapoint.strip()\n",
    "        if datapoint.isnumeric():\n",
    "            datapoint = int(datapoint)\n",
    "        elif len(datapoint) == 10 and re.match(r\"^\\d{4}.\\d{2}.\\d{2}$\", datapoint):\n",
    "            datapoint = datapoint.replace(datapoint[4], '-')\n",
    "            datapoint = datetime.strptime(datapoint, \"%Y-%m-%d\")\n",
    "            datapoint = datapoint.date()\n",
    "\n",
    "        clean_row.append(datapoint)\n",
    "    return clean_row"
   ]
  },
  {
   "cell_type": "code",
   "execution_count": 38,
   "id": "09b4b356",
   "metadata": {},
   "outputs": [
    {
     "data": {
      "text/plain": [
       "[4321,\n",
       " 'john',\n",
       " 'doe',\n",
       " '1532 East Main St.',\n",
       " 'PO BOX 5',\n",
       " 'Middleton',\n",
       " 'Ohio',\n",
       " 50045,\n",
       " datetime.date(2022, 1, 16)]"
      ]
     },
     "execution_count": 38,
     "metadata": {},
     "output_type": "execute_result"
    }
   ],
   "source": [
    "clean_row(data[0], fieldnames)"
   ]
  },
  {
   "cell_type": "code",
   "execution_count": 25,
   "id": "cbea7d89",
   "metadata": {},
   "outputs": [
    {
     "data": {
      "text/plain": [
       "'1/2'"
      ]
     },
     "execution_count": 25,
     "metadata": {},
     "output_type": "execute_result"
    }
   ],
   "source": [
    "\"1-2\".replace('-', '/')"
   ]
  },
  {
   "cell_type": "code",
   "execution_count": null,
   "id": "ffb31348",
   "metadata": {},
   "outputs": [],
   "source": []
  }
 ],
 "metadata": {
  "kernelspec": {
   "display_name": "a2-14-oct-25",
   "language": "python",
   "name": "python3"
  },
  "language_info": {
   "codemirror_mode": {
    "name": "ipython",
    "version": 3
   },
   "file_extension": ".py",
   "mimetype": "text/x-python",
   "name": "python",
   "nbconvert_exporter": "python",
   "pygments_lexer": "ipython3",
   "version": "3.12.11"
  }
 },
 "nbformat": 4,
 "nbformat_minor": 5
}
