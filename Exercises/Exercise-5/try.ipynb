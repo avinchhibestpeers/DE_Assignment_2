{
 "cells": [
  {
   "cell_type": "code",
   "execution_count": 1,
   "id": "8fb1d13f",
   "metadata": {},
   "outputs": [],
   "source": [
    "import pandas as pd"
   ]
  },
  {
   "cell_type": "code",
   "execution_count": 6,
   "id": "019c281f",
   "metadata": {},
   "outputs": [
    {
     "name": "stdout",
     "output_type": "stream",
     "text": [
      "<class 'pandas.core.frame.DataFrame'>\n",
      "RangeIndex: 2 entries, 0 to 1\n",
      "Data columns (total 9 columns):\n",
      " #   Column       Non-Null Count  Dtype \n",
      "---  ------       --------------  ----- \n",
      " 0   customer_id  2 non-null      int64 \n",
      " 1    first_name  2 non-null      object\n",
      " 2    last_name   2 non-null      object\n",
      " 3    address_1   2 non-null      object\n",
      " 4    address_2   1 non-null      object\n",
      " 5    city        2 non-null      object\n",
      " 6    state       2 non-null      object\n",
      " 7    zip_code    2 non-null      int64 \n",
      " 8    join_date   2 non-null      object\n",
      "dtypes: int64(2), object(7)\n",
      "memory usage: 276.0+ bytes\n"
     ]
    }
   ],
   "source": [
    "df = pd.read_csv(\"data/accounts.csv\")\n",
    "\n",
    "df.info()"
   ]
  },
  {
   "cell_type": "code",
   "execution_count": 16,
   "id": "506828d0",
   "metadata": {},
   "outputs": [
    {
     "data": {
      "text/html": [
       "<div>\n",
       "<style scoped>\n",
       "    .dataframe tbody tr th:only-of-type {\n",
       "        vertical-align: middle;\n",
       "    }\n",
       "\n",
       "    .dataframe tbody tr th {\n",
       "        vertical-align: top;\n",
       "    }\n",
       "\n",
       "    .dataframe thead th {\n",
       "        text-align: right;\n",
       "    }\n",
       "</style>\n",
       "<table border=\"1\" class=\"dataframe\">\n",
       "  <thead>\n",
       "    <tr style=\"text-align: right;\">\n",
       "      <th></th>\n",
       "      <th>customer_id</th>\n",
       "      <th>first_name</th>\n",
       "      <th>last_name</th>\n",
       "      <th>address_1</th>\n",
       "      <th>address_2</th>\n",
       "      <th>city</th>\n",
       "      <th>state</th>\n",
       "      <th>zip_code</th>\n",
       "      <th>join_date</th>\n",
       "    </tr>\n",
       "  </thead>\n",
       "  <tbody>\n",
       "    <tr>\n",
       "      <th>0</th>\n",
       "      <td>4321</td>\n",
       "      <td>john</td>\n",
       "      <td>doe</td>\n",
       "      <td>1532 East Main St.</td>\n",
       "      <td>PO BOX 5</td>\n",
       "      <td>Middleton</td>\n",
       "      <td>Ohio</td>\n",
       "      <td>50045</td>\n",
       "      <td>2022-01-16</td>\n",
       "    </tr>\n",
       "    <tr>\n",
       "      <th>1</th>\n",
       "      <td>5677</td>\n",
       "      <td>jane</td>\n",
       "      <td>doe</td>\n",
       "      <td>543 Oak Rd.</td>\n",
       "      <td>NaN</td>\n",
       "      <td>BigTown</td>\n",
       "      <td>Iowa</td>\n",
       "      <td>84432</td>\n",
       "      <td>2021-05-07</td>\n",
       "    </tr>\n",
       "  </tbody>\n",
       "</table>\n",
       "</div>"
      ],
      "text/plain": [
       "   customer_id  first_name  last_name            address_1  address_2  \\\n",
       "0         4321        john        doe   1532 East Main St.   PO BOX 5   \n",
       "1         5677        jane        doe          543 Oak Rd.        NaN   \n",
       "\n",
       "         city  state   zip_code  join_date  \n",
       "0   Middleton   Ohio      50045 2022-01-16  \n",
       "1     BigTown   Iowa      84432 2021-05-07  "
      ]
     },
     "execution_count": 16,
     "metadata": {},
     "output_type": "execute_result"
    }
   ],
   "source": [
    "df[\" join_date\"] = pd.to_datetime(df[\" join_date\"])\n",
    "\n",
    "df.head()"
   ]
  },
  {
   "cell_type": "code",
   "execution_count": 15,
   "id": "21d727bd",
   "metadata": {},
   "outputs": [
    {
     "data": {
      "text/plain": [
       "' join_date'"
      ]
     },
     "execution_count": 15,
     "metadata": {},
     "output_type": "execute_result"
    }
   ],
   "source": [
    "df.columns[-1]"
   ]
  },
  {
   "cell_type": "code",
   "execution_count": 17,
   "id": "f9d99399",
   "metadata": {},
   "outputs": [
    {
     "name": "stdout",
     "output_type": "stream",
     "text": [
      "<class 'pandas.core.frame.DataFrame'>\n",
      "RangeIndex: 2 entries, 0 to 1\n",
      "Data columns (total 3 columns):\n",
      " #   Column                Non-Null Count  Dtype \n",
      "---  ------                --------------  ----- \n",
      " 0   product_id            2 non-null      int64 \n",
      " 1    product_code         2 non-null      int64 \n",
      " 2    product_description  2 non-null      object\n",
      "dtypes: int64(2), object(1)\n",
      "memory usage: 180.0+ bytes\n"
     ]
    }
   ],
   "source": [
    "product_df = pd.read_csv(\"data/products.csv\")\n",
    "product_df.info()"
   ]
  },
  {
   "cell_type": "code",
   "execution_count": 19,
   "id": "16659a98",
   "metadata": {},
   "outputs": [
    {
     "name": "stdout",
     "output_type": "stream",
     "text": [
      "<class 'pandas.core.frame.DataFrame'>\n",
      "RangeIndex: 2 entries, 0 to 1\n",
      "Data columns (total 7 columns):\n",
      " #   Column                Non-Null Count  Dtype \n",
      "---  ------                --------------  ----- \n",
      " 0   transaction_id        2 non-null      object\n",
      " 1    transaction_date     2 non-null      object\n",
      " 2    product_id           2 non-null      int64 \n",
      " 3    product_code         2 non-null      int64 \n",
      " 4    product_description  2 non-null      object\n",
      " 5    quantity             2 non-null      int64 \n",
      " 6    account_id           2 non-null      int64 \n",
      "dtypes: int64(4), object(3)\n",
      "memory usage: 244.0+ bytes\n"
     ]
    }
   ],
   "source": [
    "transac_df = pd.read_csv(\"data/transactions.csv\")\n",
    "\n",
    "transac_df.info()"
   ]
  },
  {
   "cell_type": "code",
   "execution_count": 20,
   "id": "4cda755f",
   "metadata": {},
   "outputs": [
    {
     "data": {
      "text/html": [
       "<div>\n",
       "<style scoped>\n",
       "    .dataframe tbody tr th:only-of-type {\n",
       "        vertical-align: middle;\n",
       "    }\n",
       "\n",
       "    .dataframe tbody tr th {\n",
       "        vertical-align: top;\n",
       "    }\n",
       "\n",
       "    .dataframe thead th {\n",
       "        text-align: right;\n",
       "    }\n",
       "</style>\n",
       "<table border=\"1\" class=\"dataframe\">\n",
       "  <thead>\n",
       "    <tr style=\"text-align: right;\">\n",
       "      <th></th>\n",
       "      <th>transaction_id</th>\n",
       "      <th>transaction_date</th>\n",
       "      <th>product_id</th>\n",
       "      <th>product_code</th>\n",
       "      <th>product_description</th>\n",
       "      <th>quantity</th>\n",
       "      <th>account_id</th>\n",
       "    </tr>\n",
       "  </thead>\n",
       "  <tbody>\n",
       "    <tr>\n",
       "      <th>0</th>\n",
       "      <td>AS345-ASDF-31234-FDAAD-9345</td>\n",
       "      <td>2022/06/01</td>\n",
       "      <td>345</td>\n",
       "      <td>1</td>\n",
       "      <td>Widget Medium</td>\n",
       "      <td>5</td>\n",
       "      <td>4321</td>\n",
       "    </tr>\n",
       "    <tr>\n",
       "      <th>1</th>\n",
       "      <td>9234A-JFDA-87654-BFAEA-0932</td>\n",
       "      <td>2022/06/02</td>\n",
       "      <td>241</td>\n",
       "      <td>2</td>\n",
       "      <td>Widget Large</td>\n",
       "      <td>1</td>\n",
       "      <td>5677</td>\n",
       "    </tr>\n",
       "  </tbody>\n",
       "</table>\n",
       "</div>"
      ],
      "text/plain": [
       "                transaction_id  transaction_date   product_id   product_code  \\\n",
       "0  AS345-ASDF-31234-FDAAD-9345        2022/06/01          345              1   \n",
       "1  9234A-JFDA-87654-BFAEA-0932        2022/06/02          241              2   \n",
       "\n",
       "   product_description   quantity   account_id  \n",
       "0        Widget Medium          5         4321  \n",
       "1         Widget Large          1         5677  "
      ]
     },
     "execution_count": 20,
     "metadata": {},
     "output_type": "execute_result"
    }
   ],
   "source": [
    "transac_df.head()"
   ]
  }
 ],
 "metadata": {
  "kernelspec": {
   "display_name": "a2-14-oct-25",
   "language": "python",
   "name": "python3"
  },
  "language_info": {
   "codemirror_mode": {
    "name": "ipython",
    "version": 3
   },
   "file_extension": ".py",
   "mimetype": "text/x-python",
   "name": "python",
   "nbconvert_exporter": "python",
   "pygments_lexer": "ipython3",
   "version": "3.12.11"
  }
 },
 "nbformat": 4,
 "nbformat_minor": 5
}
